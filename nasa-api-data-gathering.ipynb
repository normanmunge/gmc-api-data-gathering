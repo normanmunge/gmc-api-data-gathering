{
 "cells": [
  {
   "cell_type": "markdown",
   "id": "30aace6a-e113-4000-82c9-125562fc0f09",
   "metadata": {},
   "source": [
    "# NASA DATA GATHERING USING API"
   ]
  },
  {
   "cell_type": "code",
   "execution_count": 1,
   "id": "29f7c119-2691-4354-a719-2c9248764727",
   "metadata": {},
   "outputs": [],
   "source": [
    "import requests"
   ]
  },
  {
   "cell_type": "code",
   "execution_count": null,
   "id": "4f9bd5de-ce8e-4112-b9b9-19ff87ed576e",
   "metadata": {},
   "outputs": [],
   "source": [
    "NASA_API = "
   ]
  }
 ],
 "metadata": {
  "kernelspec": {
   "display_name": "Python 3 (ipykernel)",
   "language": "python",
   "name": "python3"
  },
  "language_info": {
   "codemirror_mode": {
    "name": "ipython",
    "version": 3
   },
   "file_extension": ".py",
   "mimetype": "text/x-python",
   "name": "python",
   "nbconvert_exporter": "python",
   "pygments_lexer": "ipython3",
   "version": "3.11.5"
  }
 },
 "nbformat": 4,
 "nbformat_minor": 5
}
